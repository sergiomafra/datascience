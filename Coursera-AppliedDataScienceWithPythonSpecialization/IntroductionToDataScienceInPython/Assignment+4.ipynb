{
 "cells": [
  {
   "cell_type": "markdown",
   "metadata": {},
   "source": [
    "---\n",
    "\n",
    "_You are currently looking at **version 1.1** of this notebook. To download notebooks and datafiles, as well as get help on Jupyter notebooks in the Coursera platform, visit the [Jupyter Notebook FAQ](https://www.coursera.org/learn/python-data-analysis/resources/0dhYG) course resource._\n",
    "\n",
    "---"
   ]
  },
  {
   "cell_type": "code",
   "execution_count": 2,
   "metadata": {
    "collapsed": true
   },
   "outputs": [],
   "source": [
    "import pandas as pd\n",
    "import numpy as np\n",
    "from scipy.stats import ttest_ind"
   ]
  },
  {
   "cell_type": "markdown",
   "metadata": {},
   "source": [
    "# Assignment 4 - Hypothesis Testing\n",
    "This assignment requires more individual learning than previous assignments - you are encouraged to check out the [pandas documentation](http://pandas.pydata.org/pandas-docs/stable/) to find functions or methods you might not have used yet, or ask questions on [Stack Overflow](http://stackoverflow.com/) and tag them as pandas and python related. And of course, the discussion forums are open for interaction with your peers and the course staff.\n",
    "\n",
    "Definitions:\n",
    "* A _quarter_ is a specific three month period, Q1 is January through March, Q2 is April through June, Q3 is July through September, Q4 is October through December.\n",
    "* A _recession_ is defined as starting with two consecutive quarters of GDP decline, and ending with two consecutive quarters of GDP growth.\n",
    "* A _recession bottom_ is the quarter within a recession which had the lowest GDP.\n",
    "* A _university town_ is a city which has a high percentage of university students compared to the total population of the city.\n",
    "\n",
    "**Hypothesis**: University towns have their mean housing prices less effected by recessions. Run a t-test to compare the ratio of the mean price of houses in university towns the quarter before the recession starts compared to the recession bottom. (`price_ratio=quarter_before_recession/recession_bottom`)\n",
    "\n",
    "The following data files are available for this assignment:\n",
    "* From the [Zillow research data site](http://www.zillow.com/research/data/) there is housing data for the United States. In particular the datafile for [all homes at a city level](http://files.zillowstatic.com/research/public/City/City_Zhvi_AllHomes.csv), ```City_Zhvi_AllHomes.csv```, has median home sale prices at a fine grained level.\n",
    "* From the Wikipedia page on college towns is a list of [university towns in the United States](https://en.wikipedia.org/wiki/List_of_college_towns#College_towns_in_the_United_States) which has been copy and pasted into the file ```university_towns.txt```.\n",
    "* From Bureau of Economic Analysis, US Department of Commerce, the [GDP over time](http://www.bea.gov/national/index.htm#gdp) of the United States in current dollars (use the chained value in 2009 dollars), in quarterly intervals, in the file ```gdplev.xls```. For this assignment, only look at GDP data from the first quarter of 2000 onward.\n",
    "\n",
    "Each function in this assignment below is worth 10%, with the exception of ```run_ttest()```, which is worth 50%."
   ]
  },
  {
   "cell_type": "code",
   "execution_count": 3,
   "metadata": {
    "collapsed": true
   },
   "outputs": [],
   "source": [
    "# Use this dictionary to map state names to two letter acronyms\n",
    "states = {'OH': 'Ohio', 'KY': 'Kentucky', 'AS': 'American Samoa', 'NV': 'Nevada', 'WY': 'Wyoming', 'NA': 'National', 'AL': 'Alabama', 'MD': 'Maryland', 'AK': 'Alaska', 'UT': 'Utah', 'OR': 'Oregon', 'MT': 'Montana', 'IL': 'Illinois', 'TN': 'Tennessee', 'DC': 'District of Columbia', 'VT': 'Vermont', 'ID': 'Idaho', 'AR': 'Arkansas', 'ME': 'Maine', 'WA': 'Washington', 'HI': 'Hawaii', 'WI': 'Wisconsin', 'MI': 'Michigan', 'IN': 'Indiana', 'NJ': 'New Jersey', 'AZ': 'Arizona', 'GU': 'Guam', 'MS': 'Mississippi', 'PR': 'Puerto Rico', 'NC': 'North Carolina', 'TX': 'Texas', 'SD': 'South Dakota', 'MP': 'Northern Mariana Islands', 'IA': 'Iowa', 'MO': 'Missouri', 'CT': 'Connecticut', 'WV': 'West Virginia', 'SC': 'South Carolina', 'LA': 'Louisiana', 'KS': 'Kansas', 'NY': 'New York', 'NE': 'Nebraska', 'OK': 'Oklahoma', 'FL': 'Florida', 'CA': 'California', 'CO': 'Colorado', 'PA': 'Pennsylvania', 'DE': 'Delaware', 'NM': 'New Mexico', 'RI': 'Rhode Island', 'MN': 'Minnesota', 'VI': 'Virgin Islands', 'NH': 'New Hampshire', 'MA': 'Massachusetts', 'GA': 'Georgia', 'ND': 'North Dakota', 'VA': 'Virginia'}"
   ]
  },
  {
   "cell_type": "code",
   "execution_count": 36,
   "metadata": {
    "collapsed": true,
    "umich_part_id": "021",
    "umich_partlist_id": "004"
   },
   "outputs": [],
   "source": [
    "# # Cleaning functions\n",
    "# remove_parenthesis = lambda name: name.split(' (')[0] if ' (' in name else name\n",
    "# remove_brackets = lambda name: name.split('[')[0] if '[' in name else name\n",
    "\n",
    "def get_list_of_university_towns():\n",
    "    '''Returns a DataFrame of towns and the states they are in from the \n",
    "    university_towns.txt list. The format of the DataFrame should be:\n",
    "    DataFrame( [ [\"Michigan\", \"Ann Arbor\"], [\"Michigan\", \"Yipsilanti\"] ], \n",
    "    columns=[\"State\", \"RegionName\"]  )\n",
    "    \n",
    "    The following cleaning needs to be done:\n",
    "\n",
    "    1. For \"State\", removing characters from \"[\" to the end.\n",
    "    2. For \"RegionName\", when applicable, removing every character from \" (\" to the end.\n",
    "    3. Depending on how you read the data, you may need to remove newline character '\\n'. '''\n",
    "    # Reading university_towns.txt indo a DataFrame\n",
    "    with open('university_towns.txt', 'r') as uni_txt:\n",
    "        uni_list = uni_txt.readlines()\n",
    "    # Treating data\n",
    "    # Checking if it is a state or a town and treating according\n",
    "    uni_tuples_list = []\n",
    "    state = ''\n",
    "    for name in uni_list:\n",
    "        name = name.rstrip('\\n')\n",
    "        if '[edit]' in name:\n",
    "            name = name.split('[')[0]\n",
    "            state = name\n",
    "        else:\n",
    "            if ' (' in name:\n",
    "                name = name.split(' (')[0]\n",
    "            uni_tuples_list.append((state, name))\n",
    "    # Creating uni_df\n",
    "    uni_df = pd.DataFrame(uni_tuples_list, columns=['State', 'RegionName'])\n",
    "\n",
    "    return uni_df\n",
    "\n",
    "# get_list_of_university_towns()"
   ]
  },
  {
   "cell_type": "code",
   "execution_count": 32,
   "metadata": {
    "umich_part_id": "022",
    "umich_partlist_id": "004"
   },
   "outputs": [
    {
     "data": {
      "text/plain": [
       "'2008q3'"
      ]
     },
     "execution_count": 32,
     "metadata": {},
     "output_type": "execute_result"
    }
   ],
   "source": [
    "def get_recession_start():\n",
    "    '''Returns the year and quarter of the recession start time as a\n",
    "    string value in a format such as 2005q3'''\n",
    "    # Reading GDP DataFrame from xls file\n",
    "    GDP = pd.read_excel('gdplev.xls', skiprows=7)\n",
    "    # Selecting only the columns of interest\n",
    "    GDP = GDP[['Unnamed: 4', 'Unnamed: 6']]\n",
    "    # Defining columns and renaming it\n",
    "    GDP.columns = ['Quarters', 'GDP 2009']\n",
    "    # Removing data from before 2000\n",
    "    GDP = GDP[GDP['Quarters'] >= '2000q1']\n",
    "    # Looping through DataFrame to find the recession start\n",
    "    recession_start = ''\n",
    "    for i in range(GDP.shape[0] - 2):\n",
    "        if (GDP.iloc[i][1] > GDP.iloc[i+1][1] and\n",
    "            GDP.iloc[i+1][1] > GDP.iloc[i+2][1]):\n",
    "            recession_start = GDP.iloc[i+1][0]\n",
    "            break\n",
    "\n",
    "    return recession_start\n",
    "\n",
    "# get_recession_start()"
   ]
  },
  {
   "cell_type": "code",
   "execution_count": 6,
   "metadata": {
    "collapsed": true,
    "umich_part_id": "023",
    "umich_partlist_id": "004"
   },
   "outputs": [],
   "source": [
    "def get_recession_end():\n",
    "    '''Returns the year and quarter of the recession end time as a \n",
    "    string value in a format such as 2005q3'''\n",
    "    # Reading GDP DataFrame from xls file\n",
    "    GDP = pd.read_excel('gdplev.xls', skiprows=7)\n",
    "    # Selecting only the columns of interest\n",
    "    GDP = GDP[['Unnamed: 4', 'Unnamed: 5']]\n",
    "    # Defining columns and renaming it\n",
    "    GDP.columns = ['Quarters', 'GDP 2009']\n",
    "    # Grabbing the recession start\n",
    "    recession_start = get_recession_start()\n",
    "    # Removing data from before 2000\n",
    "    GDP = GDP[GDP['Quarters'] >= recession_start]\n",
    "    # Looping through DataFrame to find the recession end\n",
    "    recession_end = ''\n",
    "    for i in range(GDP.shape[0] - 2):\n",
    "        if (GDP.iloc[i][1] < GDP.iloc[i+1][1] and\n",
    "            GDP.iloc[i+1][1] < GDP.iloc[i+2][1]):\n",
    "            recession_end = GDP.iloc[i+2][0]\n",
    "            break\n",
    "\n",
    "    return recession_end\n",
    "       \n",
    "# get_recession_end()"
   ]
  },
  {
   "cell_type": "code",
   "execution_count": 7,
   "metadata": {
    "collapsed": true,
    "umich_part_id": "024",
    "umich_partlist_id": "004"
   },
   "outputs": [],
   "source": [
    "def get_recession_bottom():\n",
    "    '''Returns the year and quarter of the recession bottom time as a \n",
    "    string value in a format such as 2005q3'''\n",
    "    # Reading GDP DataFrame from xls file\n",
    "    GDP = pd.read_excel('gdplev.xls', skiprows=7)\n",
    "    # Selecting only the columns of interest\n",
    "    GDP = GDP[['Unnamed: 4', 'Unnamed: 5']]\n",
    "    # Defining columns and renaming it\n",
    "    GDP.columns = ['Quarters', 'GDP 2009']\n",
    "    # Grabbing recession start and end to calculate the bottom\n",
    "    recession_start = get_recession_start()\n",
    "    recession_end = get_recession_end()\n",
    "    # Removing unnecessary data\n",
    "    recession = GDP[GDP['Quarters'] >= recession_start]\n",
    "    recession = recession[recession['Quarters'] <= recession_end]\n",
    "    # Resetting index\n",
    "    recession.reset_index(drop=True, inplace=True)\n",
    "\n",
    "    return recession.iloc[recession['GDP 2009'].idxmin][0]\n",
    "\n",
    "# get_recession_bottom()"
   ]
  },
  {
   "cell_type": "code",
   "execution_count": 8,
   "metadata": {
    "collapsed": true,
    "umich_part_id": "025",
    "umich_partlist_id": "004"
   },
   "outputs": [],
   "source": [
    "def convert(month):\n",
    "    month_dict = {'01': 'q1',\n",
    "                  '04': 'q2',\n",
    "                  '07': 'q3',\n",
    "                  '10': 'q4'}\n",
    "\n",
    "    return month_dict[month]\n",
    "\n",
    "def convert_housing_data_to_quarters():\n",
    "    '''Converts the housing data to quarters and returns it as mean \n",
    "    values in a dataframe. This dataframe should be a dataframe with\n",
    "    columns for 2000q1 through 2016q3, and should have a multi-index\n",
    "    in the shape of [\"State\",\"RegionName\"].\n",
    "    \n",
    "    Note: Quarters are defined in the assignment description, they are\n",
    "    not arbitrary three month periods.\n",
    "    \n",
    "    The resulting dataframe should have 67 columns, and 10,730 rows.\n",
    "    '''\n",
    "    # Reading data pro City_Zhvi_AllHomes.csv file\n",
    "    df = pd.read_csv('City_Zhvi_AllHomes.csv')\n",
    "    #  Dropping unwanted data and setting its new index\n",
    "    df['State'] = df['State'].map(states)\n",
    "    df = (df.drop(['RegionID', 'Metro', 'CountyName', 'SizeRank'], axis=1)\n",
    "            .drop([col for col in df.columns if col < '2000-01'], axis=1)\n",
    "            .set_index(['State', 'RegionName']))\n",
    "    # Generating new quarter columns and dropping month ones\n",
    "    df_columns = df.columns\n",
    "    for i in range(0, df.shape[1]-1, 3):\n",
    "        # Slicing the original DataFrame\n",
    "        aux_df = df.iloc[:,i:i+3]\n",
    "        # Grabbing year and month\n",
    "        year, month = aux_df.columns[0].split('-')\n",
    "        # Mapping the month to a quarter start\n",
    "        quarter = convert(month)\n",
    "        # Creating quarter column\n",
    "        df['{}{}'.format(year, quarter)] = aux_df.mean(axis=1)\n",
    "\n",
    "    # Dropping month columns\n",
    "    df.drop(df_columns, axis=1, inplace=True)\n",
    "\n",
    "    return df\n",
    "\n",
    "# convert_housing_data_to_quarters()"
   ]
  },
  {
   "cell_type": "code",
   "execution_count": 19,
   "metadata": {
    "umich_part_id": "026",
    "umich_partlist_id": "004"
   },
   "outputs": [
    {
     "data": {
      "text/plain": [
       "(True, 0.00324803036863141, 'university town')"
      ]
     },
     "execution_count": 19,
     "metadata": {},
     "output_type": "execute_result"
    }
   ],
   "source": [
    "def run_ttest():\n",
    "    '''First creates new data showing the decline or growth of housing prices\n",
    "    between the recession start and the recession bottom. Then runs a ttest\n",
    "    comparing the university town values to the non-university towns values, \n",
    "    return whether the alternative hypothesis (that the two groups are the same)\n",
    "    is true or not as well as the p-value of the confidence. \n",
    "    \n",
    "    Return the tuple (different, p, better) where different=True if the t-test is\n",
    "    True at a p<0.01 (we reject the null hypothesis), or different=False if \n",
    "    otherwise (we cannot reject the null hypothesis). The variable p should\n",
    "    be equal to the exact p value returned from scipy.stats.ttest_ind(). The\n",
    "    value for better should be either \"university town\" or \"non-university town\"\n",
    "    depending on which has a lower mean price ratio (which is equivilent to a\n",
    "    reduced market loss).'''\n",
    "    # Loading data\n",
    "    recession_start = get_recession_start()\n",
    "    recession_bottom = get_recession_bottom()\n",
    "    university_towns = get_list_of_university_towns()\n",
    "    hd_quarters = convert_housing_data_to_quarters()    \n",
    "    # Price variation\n",
    "    hd_quarters = hd_quarters[[recession_start, recession_bottom]]\n",
    "    hd_quarters['PriceVariation'] = hd_quarters.iloc[:,1] - hd_quarters.iloc[:,0]\n",
    "    hd_quarters.drop(hd_quarters.columns[:2], axis=1, inplace=True)\n",
    "    # Joining DataFrames to check if it is a University Town\n",
    "    final_df = pd.merge(hd_quarters, university_towns, left_index=True,\n",
    "                        right_on=['State', 'RegionName'], how='left',\n",
    "                        indicator='IsUniversityTown')\n",
    "    final_df['IsUniversityTown'] = np.where(final_df.IsUniversityTown == 'both', True, False)\n",
    "    final_df.drop(['State', 'RegionName'], axis=1, inplace=True)\n",
    "    # Calculating the finals results (different, p, better)\n",
    "    unitowns = final_df[final_df['IsUniversityTown'] == True].dropna()\n",
    "    not_unitowns = final_df[final_df['IsUniversityTown'] == False].dropna()\n",
    "    t, p = ttest_ind(unitowns['PriceVariation'], not_unitowns['PriceVariation'])\n",
    "    different = True if p < .01 else False\n",
    "    utm = abs(unitowns['PriceVariation'].mean())\n",
    "    nutm = abs(not_unitowns['PriceVariation'].mean())\n",
    "    better = 'university town' if utm < nutm else 'non-university town'\n",
    "    \n",
    "    return (different, p, better)\n",
    "\n",
    "# run_ttest()"
   ]
  }
 ],
 "metadata": {
  "coursera": {
   "course_slug": "python-data-analysis",
   "graded_item_id": "Il9Fx",
   "launcher_item_id": "TeDW0",
   "part_id": "WGlun"
  },
  "kernelspec": {
   "display_name": "Python 3",
   "language": "python",
   "name": "python3"
  },
  "language_info": {
   "codemirror_mode": {
    "name": "ipython",
    "version": 3
   },
   "file_extension": ".py",
   "mimetype": "text/x-python",
   "name": "python",
   "nbconvert_exporter": "python",
   "pygments_lexer": "ipython3",
   "version": "3.6.2"
  },
  "umich": {
   "id": "Assignment 4",
   "version": "1.1"
  }
 },
 "nbformat": 4,
 "nbformat_minor": 1
}
