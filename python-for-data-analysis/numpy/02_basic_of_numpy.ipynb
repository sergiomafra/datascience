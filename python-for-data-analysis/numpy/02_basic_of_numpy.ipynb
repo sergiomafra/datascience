{
 "cells": [
  {
   "cell_type": "code",
   "execution_count": 1,
   "metadata": {},
   "outputs": [],
   "source": [
    "## Fooling around with NumPy basics"
   ]
  },
  {
   "cell_type": "code",
   "execution_count": 2,
   "metadata": {},
   "outputs": [],
   "source": [
    "# imports\n",
    "import numpy as np"
   ]
  },
  {
   "cell_type": "code",
   "execution_count": 3,
   "metadata": {},
   "outputs": [
    {
     "name": "stdout",
     "output_type": "stream",
     "text": [
      "\n",
      "npdata1 = [1 2 3 4 5]\n",
      "Dimensions: 1\n",
      "Shape: (5,)\n"
     ]
    }
   ],
   "source": [
    "# Single dimension\n",
    "data1 = [1, 2, 3, 4, 5]\n",
    "npdata1 = np.array(data1)\n",
    "print(\n",
    "    f'\\nnpdata1 = {npdata1}'\n",
    "    f'\\nDimensions: {npdata1.ndim}'\n",
    "    f'\\nShape: {npdata1.shape}')"
   ]
  },
  {
   "cell_type": "code",
   "execution_count": 4,
   "metadata": {},
   "outputs": [
    {
     "name": "stdout",
     "output_type": "stream",
     "text": [
      "\n",
      "npdata2 = \n",
      "[[1 2 3]\n",
      " [4 5 6]]\n",
      "Dimensions: 2\n",
      "Shape: (2, 3)\n"
     ]
    }
   ],
   "source": [
    "# Two or more dimensions\n",
    "data2 = [[1, 2, 3], [4, 5, 6]]\n",
    "npdata2 = np.array(data2)\n",
    "print(\n",
    "    f'\\nnpdata2 = \\n{npdata2}'\n",
    "    f'\\nDimensions: {npdata2.ndim}'\n",
    "    f'\\nShape: {npdata2.shape}')"
   ]
  },
  {
   "cell_type": "code",
   "execution_count": 11,
   "metadata": {},
   "outputs": [
    {
     "name": "stdout",
     "output_type": "stream",
     "text": [
      "\n",
      "npzeros = \n",
      "[[0. 0. 0. 0. 0.]\n",
      " [0. 0. 0. 0. 0.]\n",
      " [0. 0. 0. 0. 0.]\n",
      " [0. 0. 0. 0. 0.]\n",
      " [0. 0. 0. 0. 0.]]\n",
      "\n",
      "npempty0 = \n",
      "[[0. 0. 0. 0. 0.]\n",
      " [0. 0. 0. 0. 0.]\n",
      " [0. 0. 0. 0. 0.]\n",
      " [0. 0. 0. 0. 0.]\n",
      " [0. 0. 0. 0. 0.]]\n",
      "\n",
      "npones = \n",
      "[[1. 1. 1. 1. 1.]\n",
      " [1. 1. 1. 1. 1.]\n",
      " [1. 1. 1. 1. 1.]\n",
      " [1. 1. 1. 1. 1.]\n",
      " [1. 1. 1. 1. 1.]]\n",
      "\n",
      "npempty1 = \n",
      "[[1. 1. 1. 1. 1.]\n",
      " [1. 1. 1. 1. 1.]\n",
      " [1. 1. 1. 1. 1.]\n",
      " [1. 1. 1. 1. 1.]\n",
      " [1. 1. 1. 1. 1.]]\n",
      "\n",
      "Example data = [[1, 2, 3], [4, 5, 6]]\n",
      "\n",
      "nponeslike based on data = \n",
      "[[1 1 1]\n",
      " [1 1 1]]\n",
      "\n",
      "npzeroslike based on data = \n",
      "[[0 0 0]\n",
      " [0 0 0]]\n"
     ]
    }
   ],
   "source": [
    "# Zeros, Ones and Empty\n",
    "# np.empty brings trash with it\n",
    "npzeros = np.zeros((5, 5))\n",
    "print(f'\\nnpzeros = \\n{npzeros}')\n",
    "npempty0 = np.empty((5,5))\n",
    "print(f'\\nnpempty0 = \\n{npempty0}')\n",
    "npones = np.ones((5,5))\n",
    "print(f'\\nnpones = \\n{npones}')\n",
    "npempty1 = np.empty((5,5))\n",
    "print(f'\\nnpempty1 = \\n{npempty1}')\n",
    "\n",
    "#  zeros_like, ones_like, etc\n",
    "data = [[1,2,3],[4,5,6]]\n",
    "print(f'\\nExample data = {data}')\n",
    "nponeslike = np.ones_like(data)\n",
    "print(f'\\nnponeslike based on data = \\n{nponeslike}')\n",
    "npzeroslike = np.zeros_like(data)\n",
    "print(f'\\nnpzeroslike based on data = \\n{npzeroslike}')"
   ]
  },
  {
   "cell_type": "code",
   "execution_count": 6,
   "metadata": {},
   "outputs": [
    {
     "name": "stdout",
     "output_type": "stream",
     "text": [
      "\n",
      "nparange(15) = \n",
      "[ 0  1  2  3  4  5  6  7  8  9 10 11 12 13 14]\n"
     ]
    }
   ],
   "source": [
    "# np.arange\n",
    "nparange = np.arange(15)\n",
    "print(f'\\nnparange(15) = \\n{nparange}')"
   ]
  },
  {
   "cell_type": "code",
   "execution_count": 21,
   "metadata": {},
   "outputs": [
    {
     "name": "stdout",
     "output_type": "stream",
     "text": [
      "intarray = \n",
      "[[1 2 3]\n",
      " [4 5 6]]\n",
      "\n",
      "floatarray = \n",
      "[[1.3  2.1  3.  ]\n",
      " [4.99 5.34 6.78]]\n",
      "\n",
      "intarray -> float64 = \n",
      "[[1. 2. 3.]\n",
      " [4. 5. 6.]]\n",
      "\n",
      "floatarray -> int32 = \n",
      "[[1 2 3]\n",
      " [4 5 6]]\n"
     ]
    }
   ],
   "source": [
    "# np.astype -> convert dtype of an array\n",
    "genericintdata = [[1,2,3],[4,5,6]]\n",
    "genericfloatdata = [[1.3,2.1,3.0], [4.99,5.34,6.78]]\n",
    "intarray = np.array(genericintdata, dtype=np.int32)\n",
    "floatarray = np.array(genericfloatdata, dtype=np.float64)\n",
    "print(\n",
    "    f'intarray = \\n{intarray}\\n'\n",
    "    f'\\nfloatarray = \\n{floatarray}')\n",
    "\n",
    "# Type cast\n",
    "print(\n",
    "    f'\\nintarray -> float64 = \\n{intarray.astype(np.float64)}\\n'\n",
    "    f'\\nfloatarray -> int32 = \\n{floatarray.astype(np.int32)}')"
   ]
  },
  {
   "cell_type": "code",
   "execution_count": 22,
   "metadata": {},
   "outputs": [],
   "source": [
    "# Operations\n",
    "arr = np.array([[1., 2., 3.], [4., 5., 6.]])\n",
    "arr2 = np.array([[0., 4., 1.], [7., 2., 12.]])"
   ]
  },
  {
   "cell_type": "code",
   "execution_count": 24,
   "metadata": {},
   "outputs": [
    {
     "data": {
      "text/plain": [
       "array([[10., 20., 30.],\n",
       "       [40., 50., 60.]])"
      ]
     },
     "execution_count": 24,
     "metadata": {},
     "output_type": "execute_result"
    }
   ],
   "source": [
    "# Scalar\n",
    "arr * 10"
   ]
  },
  {
   "cell_type": "code",
   "execution_count": 25,
   "metadata": {},
   "outputs": [
    {
     "data": {
      "text/plain": [
       "array([[ 1.,  4.,  9.],\n",
       "       [16., 25., 36.]])"
      ]
     },
     "execution_count": 25,
     "metadata": {},
     "output_type": "execute_result"
    }
   ],
   "source": [
    "# Itself\n",
    "arr * arr"
   ]
  },
  {
   "cell_type": "code",
   "execution_count": 26,
   "metadata": {},
   "outputs": [
    {
     "data": {
      "text/plain": [
       "array([[1.        , 0.5       , 0.33333333],\n",
       "       [0.25      , 0.2       , 0.16666667]])"
      ]
     },
     "execution_count": 26,
     "metadata": {},
     "output_type": "execute_result"
    }
   ],
   "source": [
    "# Division scalar\n",
    "1 / arr"
   ]
  },
  {
   "cell_type": "code",
   "execution_count": 27,
   "metadata": {},
   "outputs": [
    {
     "data": {
      "text/plain": [
       "array([[False,  True, False],\n",
       "       [ True, False,  True]])"
      ]
     },
     "execution_count": 27,
     "metadata": {},
     "output_type": "execute_result"
    }
   ],
   "source": [
    "# Comparison\n",
    "arr < arr2"
   ]
  },
  {
   "cell_type": "code",
   "execution_count": null,
   "metadata": {},
   "outputs": [],
   "source": []
  },
  {
   "cell_type": "code",
   "execution_count": null,
   "metadata": {},
   "outputs": [],
   "source": []
  }
 ],
 "metadata": {
  "kernelspec": {
   "display_name": "Python 3",
   "language": "python",
   "name": "python3"
  },
  "language_info": {
   "codemirror_mode": {
    "name": "ipython",
    "version": 3
   },
   "file_extension": ".py",
   "mimetype": "text/x-python",
   "name": "python",
   "nbconvert_exporter": "python",
   "pygments_lexer": "ipython3",
   "version": "3.8.0"
  }
 },
 "nbformat": 4,
 "nbformat_minor": 2
}
